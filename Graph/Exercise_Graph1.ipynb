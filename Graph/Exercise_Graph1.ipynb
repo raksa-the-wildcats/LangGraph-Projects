{
 "cells": [
  {
   "cell_type": "markdown",
   "id": "0e086ffc",
   "metadata": {},
   "source": [
    "## Exercise 1"
   ]
  },
  {
   "cell_type": "code",
   "execution_count": 2,
   "id": "94a0954a",
   "metadata": {},
   "outputs": [],
   "source": [
    "from typing import Dict, TypedDict\n",
    "from langgraph.graph import StateGraph"
   ]
  },
  {
   "cell_type": "code",
   "execution_count": 5,
   "id": "d9a6f3f9",
   "metadata": {},
   "outputs": [],
   "source": [
    "class AgentState(TypedDict):\n",
    "    name : str \n",
    "\n",
    "def compliment_node(state : AgentState) -> AgentState:\n",
    "    \"\"\" Simple node that compliment the user \"\"\"\n",
    "    state['name'] = state['name'] + \" you're doing an amazing job learning LangGraph!\"\n",
    "\n",
    "    return state"
   ]
  },
  {
   "cell_type": "code",
   "execution_count": 6,
   "id": "13eac75f",
   "metadata": {},
   "outputs": [],
   "source": [
    "graph = StateGraph(AgentState)\n",
    "\n",
    "graph.add_node(\"compliment\", compliment_node)\n",
    "\n",
    "graph.set_entry_point(\"compliment\")\n",
    "graph.set_finish_point(\"compliment\")\n",
    "\n",
    "app = graph.compile()"
   ]
  },
  {
   "cell_type": "code",
   "execution_count": 7,
   "id": "e7b0f6c2",
   "metadata": {},
   "outputs": [
    {
     "data": {
      "text/plain": [
       "\"Raksa you're doing an amazing job learning LangGraph!\""
      ]
     },
     "execution_count": 7,
     "metadata": {},
     "output_type": "execute_result"
    }
   ],
   "source": [
    "result = app.invoke({\"name\": \"Raksa\"})\n",
    "result['name']"
   ]
  },
  {
   "cell_type": "code",
   "execution_count": null,
   "id": "056763fe",
   "metadata": {},
   "outputs": [],
   "source": []
  }
 ],
 "metadata": {
  "kernelspec": {
   "display_name": "Python 3",
   "language": "python",
   "name": "python3"
  },
  "language_info": {
   "codemirror_mode": {
    "name": "ipython",
    "version": 3
   },
   "file_extension": ".py",
   "mimetype": "text/x-python",
   "name": "python",
   "nbconvert_exporter": "python",
   "pygments_lexer": "ipython3",
   "version": "3.10.0"
  }
 },
 "nbformat": 4,
 "nbformat_minor": 5
}
