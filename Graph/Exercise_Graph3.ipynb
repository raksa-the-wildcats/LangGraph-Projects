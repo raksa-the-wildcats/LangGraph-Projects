{
 "cells": [
  {
   "cell_type": "markdown",
   "id": "db8247c7",
   "metadata": {},
   "source": [
    "## Exercise 3"
   ]
  },
  {
   "cell_type": "code",
   "execution_count": 2,
   "id": "dfee11a2",
   "metadata": {},
   "outputs": [],
   "source": [
    "from typing import TypedDict\n",
    "from langgraph.graph import StateGraph"
   ]
  },
  {
   "cell_type": "code",
   "execution_count": 5,
   "id": "97f56084",
   "metadata": {},
   "outputs": [],
   "source": [
    "class AgentState(TypedDict):\n",
    "    name: str\n",
    "    age: str\n",
    "    skills: list\n",
    "    final:str"
   ]
  },
  {
   "cell_type": "code",
   "execution_count": 6,
   "id": "c9334e46",
   "metadata": {},
   "outputs": [],
   "source": [
    "def name_node(state: AgentState) -> AgentState:\n",
    "    \"\"\"\" This is the first node to personalize the name field with a greeting \"\"\"\n",
    "\n",
    "    state['final'] = f\"{state['name']}, welcome to the system! \"\n",
    "\n",
    "    return state\n",
    "\n",
    "def age_node(state: AgentState) -> AgentState:\n",
    "    \"\"\" This is the second node to describe user's age \"\"\"\n",
    "\n",
    "    state['final'] = state['final'] + f\"You are {state['age']} years old! \"\n",
    "\n",
    "    return state\n",
    "\n",
    "def skills_node(state: AgentState) -> AgentState:\n",
    "    \"\"\" This is the third node to list user's skills \"\"\"\n",
    "\n",
    "    state['final'] = state['final'] + f\"You have skills in {', '.join(state['skills'])}\"\n",
    "\n",
    "    return state"
   ]
  },
  {
   "cell_type": "code",
   "execution_count": 7,
   "id": "961ae493",
   "metadata": {},
   "outputs": [],
   "source": [
    "graph = StateGraph(AgentState)\n",
    "\n",
    "graph.add_node(\"name_node\", name_node)\n",
    "graph.add_node(\"age_node\", age_node)\n",
    "graph.add_node(\"skills_node\", skills_node)\n",
    "\n",
    "graph.set_entry_point(\"name_node\")\n",
    "graph.add_edge(\"name_node\", \"age_node\")\n",
    "graph.add_edge(\"age_node\", \"skills_node\")\n",
    "graph.set_finish_point(\"skills_node\")\n",
    "\n",
    "app = graph.compile()"
   ]
  },
  {
   "cell_type": "code",
   "execution_count": 8,
   "id": "5b511b10",
   "metadata": {},
   "outputs": [
    {
     "data": {
      "image/png": "[encoded data removed]",
      "text/plain": [
       "<IPython.core.display.Image object>"
      ]
     },
     "metadata": {},
     "output_type": "display_data"
    }
   ],
   "source": [
    "from IPython.display import Image, display\n",
    "display(Image(app.get_graph().draw_mermaid_png()))"
   ]
  },
  {
   "cell_type": "code",
   "execution_count": 9,
   "id": "86588386",
   "metadata": {},
   "outputs": [
    {
     "name": "stdout",
     "output_type": "stream",
     "text": [
      "Linda, welcome to the system! You are 31 years old! You have skills in Python, Machine Learning, LangGraph\n"
     ]
    }
   ],
   "source": [
    "result = app.invoke({\"name\": \"Linda\", \"age\": 31, \"skills\":[\"Python\", \"Machine Learning\", \"LangGraph\"]})\n",
    "print(result['final'])"
   ]
  }
 ],
 "metadata": {
  "kernelspec": {
   "display_name": "Python 3",
   "language": "python",
   "name": "python3"
  },
  "language_info": {
   "codemirror_mode": {
    "name": "ipython",
    "version": 3
   },
   "file_extension": ".py",
   "mimetype": "text/x-python",
   "name": "python",
   "nbconvert_exporter": "python",
   "pygments_lexer": "ipython3",
   "version": "3.10.0"
  }
 },
 "nbformat": 4,
 "nbformat_minor": 5
}
